{
 "cells": [
  {
   "cell_type": "code",
   "execution_count": 5,
   "metadata": {},
   "outputs": [],
   "source": [
    "import pandas as pd\n",
    "import numpy as np\n",
    "from faker import Faker\n",
    "\n",
    "pers1 = np.arange(1,3,1)\n",
    "# Make each of the last element 5x more likely\n",
    "prob1 = [1.0]*(len(pers1)-1) + [5.0]*1\n",
    "# Normalising to 1.0\n",
    "prob1 /= np.sum(prob1)\n",
    "\n",
    "pers2 = np.arange(1,4,1)\n",
    "# Make each of the last element 5x more likely\n",
    "prob2 = [1.0]*(len(pers2)-1) + [5.0]*1\n",
    "# Normalising to 1.0\n",
    "prob2 /= np.sum(prob2)\n",
    "\n",
    "pers3 = np.arange(1,8,1)\n",
    "# Make each of the last 1 element 10x more likely\n",
    "prob3 = [1.0]*(len(pers3)-1) + [10.0]*1\n",
    "# Normalising to 1.0\n",
    "prob3 /= np.sum(prob3)"
   ]
  },
  {
   "cell_type": "code",
   "execution_count": 6,
   "metadata": {},
   "outputs": [],
   "source": [
    "# Create a Faker instance for generating random names\n",
    "fake = Faker()\n",
    "\n",
    "# Set the number of records\n",
    "num_records = 20\n",
    "\n",
    "# Define the column names and their respective value choices\n",
    "columns = ['flight_date', 'Aisle/Window', 'MP-seat', 'MP-meal', 'Row', 'meal', 'flight_duration']\n",
    "\n",
    "# Generate synthetic data for each user\n",
    "# 'Aisle/Window': 'Aisle', 'Window'\n",
    "# 'Row': 'front', 'middle', 'back'\n",
    "# 'meal': 'baby', 'low-cal', 'gluten-free', 'vegetarian', 'halal', 'low-salt', 'seafood'\n",
    "data = pd.DataFrame()\n",
    "\n",
    "for i in range(2,8,1):\n",
    "    data = pd.concat([data, \n",
    "                      pd.DataFrame({'flight_date': [fake.date_between(start_date='-1y', end_date='today') for _ in range(num_records)],\n",
    "        'Aisle/Window': np.random.choice(pers1, num_records, p=prob1),\n",
    "        'MP-seat': np.random.choice(pers1),\n",
    "        'Row': np.random.choice(pers2, num_records, p=prob2),\n",
    "        'meal': np.random.choice(pers3, num_records, p=prob3),\n",
    "        'MP-meal': np.random.choice(pers2),\n",
    "        'flight_duration': [i]*num_records}\n",
    ")])\n",
    "    \n",
    "# Display the generated data\n",
    "#print(df.head(100))\n",
    "\n",
    "data.to_csv('flight_data.csv', index=True)\n"
   ]
  }
 ],
 "metadata": {
  "kernelspec": {
   "display_name": "Python 3",
   "language": "python",
   "name": "python3"
  },
  "language_info": {
   "codemirror_mode": {
    "name": "ipython",
    "version": 3
   },
   "file_extension": ".py",
   "mimetype": "text/x-python",
   "name": "python",
   "nbconvert_exporter": "python",
   "pygments_lexer": "ipython3",
   "version": "3.11.6"
  }
 },
 "nbformat": 4,
 "nbformat_minor": 2
}
